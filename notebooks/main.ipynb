{
 "cells": [
  {
   "cell_type": "code",
   "execution_count": 1,
   "metadata": {},
   "outputs": [
    {
     "data": {
      "text/html": [
       "<pre style=\"white-space:pre;overflow-x:auto;line-height:normal;font-family:Menlo,'DejaVu Sans Mono',consolas,'Courier New',monospace\"><span style=\"color: #7fbfbf; text-decoration-color: #7fbfbf\">[07/10/23 09:20:58] </span><span style=\"color: #000080; text-decoration-color: #000080\">INFO    </span> Hello, world!                                                          <a href=\"file:///var/folders/dy/v73twks152z4p6y_7yl9bmbc0000gn/T/ipykernel_86058/3357856305.py\" target=\"_blank\"><span style=\"color: #7f7f7f; text-decoration-color: #7f7f7f\">3357856305.py</span></a><span style=\"color: #7f7f7f; text-decoration-color: #7f7f7f\">:</span><a href=\"file:///var/folders/dy/v73twks152z4p6y_7yl9bmbc0000gn/T/ipykernel_86058/3357856305.py#6\" target=\"_blank\"><span style=\"color: #7f7f7f; text-decoration-color: #7f7f7f\">6</span></a>\n",
       "</pre>\n"
      ],
      "text/plain": [
       "\u001b[2;36m[07/10/23 09:20:58]\u001b[0m\u001b[2;36m \u001b[0m\u001b[34mINFO    \u001b[0m Hello, world!                                                          \u001b]8;id=108396;file:///var/folders/dy/v73twks152z4p6y_7yl9bmbc0000gn/T/ipykernel_86058/3357856305.py\u001b\\\u001b[2m3357856305.py\u001b[0m\u001b]8;;\u001b\\\u001b[2m:\u001b[0m\u001b]8;id=327867;file:///var/folders/dy/v73twks152z4p6y_7yl9bmbc0000gn/T/ipykernel_86058/3357856305.py#6\u001b\\\u001b[2m6\u001b[0m\u001b]8;;\u001b\\\n"
      ]
     },
     "metadata": {},
     "output_type": "display_data"
    }
   ],
   "source": [
    "# %load_ext autoreload\n",
    "# %autoreload 2\n",
    "\n",
    "from coolors_preview import logger\n",
    "\n",
    "logger.info(\"Hello, world!\")"
   ]
  },
  {
   "cell_type": "code",
   "execution_count": 2,
   "metadata": {},
   "outputs": [],
   "source": [
    "from coolors_preview.url2palette import url2palette"
   ]
  },
  {
   "cell_type": "code",
   "execution_count": 3,
   "metadata": {},
   "outputs": [],
   "source": [
    "palette = url2palette(\"https://coolors.co/palette/264653-2a9d8f-e9c46a-f4a261-e76f51\")"
   ]
  },
  {
   "cell_type": "code",
   "execution_count": 4,
   "metadata": {},
   "outputs": [],
   "source": [
    "from coolors_preview.preview import create_preview"
   ]
  },
  {
   "cell_type": "code",
   "execution_count": 5,
   "metadata": {},
   "outputs": [
    {
     "data": {
      "text/html": [
       "\n",
       "<style>\n",
       "  #altair-viz-5eaaf133a3d7407e81b77d354cf01da0.vega-embed {\n",
       "    width: 100%;\n",
       "    display: flex;\n",
       "  }\n",
       "\n",
       "  #altair-viz-5eaaf133a3d7407e81b77d354cf01da0.vega-embed details,\n",
       "  #altair-viz-5eaaf133a3d7407e81b77d354cf01da0.vega-embed details summary {\n",
       "    position: relative;\n",
       "  }\n",
       "</style>\n",
       "<div id=\"altair-viz-5eaaf133a3d7407e81b77d354cf01da0\"></div>\n",
       "<script type=\"text/javascript\">\n",
       "  var VEGA_DEBUG = (typeof VEGA_DEBUG == \"undefined\") ? {} : VEGA_DEBUG;\n",
       "  (function(spec, embedOpt){\n",
       "    let outputDiv = document.currentScript.previousElementSibling;\n",
       "    if (outputDiv.id !== \"altair-viz-5eaaf133a3d7407e81b77d354cf01da0\") {\n",
       "      outputDiv = document.getElementById(\"altair-viz-5eaaf133a3d7407e81b77d354cf01da0\");\n",
       "    }\n",
       "    const paths = {\n",
       "      \"vega\": \"https://cdn.jsdelivr.net/npm/vega@5?noext\",\n",
       "      \"vega-lib\": \"https://cdn.jsdelivr.net/npm/vega-lib?noext\",\n",
       "      \"vega-lite\": \"https://cdn.jsdelivr.net/npm/vega-lite@5.8.0?noext\",\n",
       "      \"vega-embed\": \"https://cdn.jsdelivr.net/npm/vega-embed@6?noext\",\n",
       "    };\n",
       "\n",
       "    function maybeLoadScript(lib, version) {\n",
       "      var key = `${lib.replace(\"-\", \"\")}_version`;\n",
       "      return (VEGA_DEBUG[key] == version) ?\n",
       "        Promise.resolve(paths[lib]) :\n",
       "        new Promise(function(resolve, reject) {\n",
       "          var s = document.createElement('script');\n",
       "          document.getElementsByTagName(\"head\")[0].appendChild(s);\n",
       "          s.async = true;\n",
       "          s.onload = () => {\n",
       "            VEGA_DEBUG[key] = version;\n",
       "            return resolve(paths[lib]);\n",
       "          };\n",
       "          s.onerror = () => reject(`Error loading script: ${paths[lib]}`);\n",
       "          s.src = paths[lib];\n",
       "        });\n",
       "    }\n",
       "\n",
       "    function showError(err) {\n",
       "      outputDiv.innerHTML = `<div class=\"error\" style=\"color:red;\">${err}</div>`;\n",
       "      throw err;\n",
       "    }\n",
       "\n",
       "    function displayChart(vegaEmbed) {\n",
       "      vegaEmbed(outputDiv, spec, embedOpt)\n",
       "        .catch(err => showError(`Javascript Error: ${err.message}<br>This usually means there's a typo in your chart specification. See the javascript console for the full traceback.`));\n",
       "    }\n",
       "\n",
       "    if(typeof define === \"function\" && define.amd) {\n",
       "      requirejs.config({paths});\n",
       "      require([\"vega-embed\"], displayChart, err => showError(`Error loading script: ${err.message}`));\n",
       "    } else {\n",
       "      maybeLoadScript(\"vega\", \"5\")\n",
       "        .then(() => maybeLoadScript(\"vega-lite\", \"5.8.0\"))\n",
       "        .then(() => maybeLoadScript(\"vega-embed\", \"6\"))\n",
       "        .catch(showError)\n",
       "        .then(() => displayChart(vegaEmbed));\n",
       "    }\n",
       "  })({\"config\": {\"text\": {\"color\": \"gray\", \"fontSize\": 14}, \"title\": {\"anchor\": \"middle\", \"fontWeight\": \"normal\", \"titleFontWeight\": \"normal\", \"labelFontWeight\": \"normal\", \"fontSize\": 30, \"titleFontSize\": 16, \"labelFontSize\": 14, \"color\": \"gray\", \"titleColor\": \"gray\", \"labelColor\": \"gray\", \"tickColor\": \"gray\", \"domainColor\": \"gray\"}, \"header\": {\"titleFontSize\": 16, \"labelFontSize\": 16, \"color\": \"gray\", \"titleColor\": \"gray\", \"labelColor\": \"gray\", \"titleFontWeight\": \"normal\"}, \"view\": {\"height\": 350, \"width\": 1400, \"strokeWidth\": 0, \"fill\": \"white\"}, \"axis\": {\"domain\": true, \"domainColor\": \"gray\", \"domainWidth\": 1, \"gridWidth\": 1, \"labelAngle\": 0, \"tickSize\": 5, \"gridCap\": \"round\", \"gridDash\": [2, 4], \"fontWeight\": \"normal\", \"titleFontWeight\": \"normal\", \"labelFontWeight\": \"normal\", \"fontSize\": 30, \"titleFontSize\": 16, \"labelFontSize\": 14, \"color\": \"gray\", \"titleColor\": \"gray\", \"labelColor\": \"gray\", \"tickColor\": \"gray\"}, \"axisX\": {\"titleAnchor\": \"end\", \"titleAlign\": \"center\"}, \"axisY\": {\"titleAnchor\": \"end\", \"titleAngle\": 0, \"titleAlign\": \"center\", \"titleY\": -15, \"titleX\": 0}, \"axisLeft\": {\"labelAlign\": \"right\"}, \"axisRight\": {\"titleAnchor\": \"end\", \"titleAngle\": 0, \"titleAlign\": \"center\", \"titleY\": -15, \"tickSize\": 5, \"tickColor\": \"gray\", \"labelPadding\": 5, \"labelAlign\": \"left\"}, \"facet\": {\"spacing\": 50}, \"legend\": {\"fontWeight\": \"normal\", \"titleFontWeight\": \"normal\", \"labelFontWeight\": \"normal\", \"fontSize\": 30, \"titleFontSize\": 16, \"labelFontSize\": 14, \"color\": \"gray\", \"titleColor\": \"gray\", \"labelColor\": \"gray\", \"tickColor\": \"gray\", \"domainColor\": \"gray\"}}, \"vconcat\": [{\"hconcat\": [{\"mark\": {\"type\": \"point\", \"filled\": true, \"opacity\": 1, \"size\": 200}, \"encoding\": {\"color\": {\"field\": \"c\", \"legend\": null, \"scale\": {\"range\": [\"#264653\", \"#2a9d8f\", \"#e9c46a\", \"#f4a261\", \"#e76f51\"], \"domain\": [\"#264653\", \"#2a9d8f\", \"#e9c46a\", \"#f4a261\", \"#e76f51\"]}, \"type\": \"nominal\"}, \"x\": {\"field\": \"x\", \"type\": \"quantitative\"}, \"y\": {\"field\": \"y\", \"type\": \"quantitative\"}}, \"width\": 400}, {\"mark\": {\"type\": \"line\", \"strokeWidth\": 3}, \"encoding\": {\"color\": {\"field\": \"c\", \"legend\": null, \"scale\": {\"range\": [\"#264653\", \"#2a9d8f\", \"#e9c46a\", \"#f4a261\", \"#e76f51\"], \"domain\": [\"#264653\", \"#2a9d8f\", \"#e9c46a\", \"#f4a261\", \"#e76f51\"]}, \"type\": \"nominal\"}, \"x\": {\"field\": \"t\", \"sort\": null, \"type\": \"quantitative\"}, \"y\": {\"field\": \"y\", \"type\": \"quantitative\"}}, \"width\": 400}]}, {\"hconcat\": [{\"mark\": {\"type\": \"bar\", \"strokeOpacity\": 1}, \"encoding\": {\"color\": {\"field\": \"c\", \"legend\": null, \"scale\": {\"range\": [\"#264653\", \"#2a9d8f\", \"#e9c46a\", \"#f4a261\", \"#e76f51\"], \"domain\": [\"#264653\", \"#2a9d8f\", \"#e9c46a\", \"#f4a261\", \"#e76f51\"]}, \"type\": \"nominal\"}, \"x\": {\"field\": \"c\", \"type\": \"nominal\"}, \"y\": {\"field\": \"x\", \"type\": \"quantitative\"}}, \"width\": 400}, {\"mark\": {\"type\": \"rect\"}, \"encoding\": {\"color\": {\"aggregate\": \"count\", \"legend\": null, \"scale\": {\"range\": [\"#264653\", \"#2a9d8f\", \"#e9c46a\", \"#f4a261\", \"#e76f51\"]}, \"type\": \"nominal\"}, \"x\": {\"bin\": {\"maxbins\": 5}, \"field\": \"x\", \"type\": \"quantitative\"}, \"y\": {\"bin\": {\"maxbins\": 5}, \"field\": \"y\", \"type\": \"quantitative\"}}, \"width\": 400}]}], \"data\": {\"name\": \"data-80d6ae962a27ce2820936da9c42a923a\"}, \"$schema\": \"https://vega.github.io/schema/vega-lite/v5.8.0.json\", \"datasets\": {\"data-80d6ae962a27ce2820936da9c42a923a\": [{\"x\": 0.417022004702574, \"y\": 0.019366957870297075, \"c\": \"#264653\", \"t\": 0}, {\"x\": 0.7203244934421581, \"y\": 0.678835532939891, \"c\": \"#264653\", \"t\": 1}, {\"x\": 0.00011437481734488664, \"y\": 0.21162811600005904, \"c\": \"#264653\", \"t\": 2}, {\"x\": 0.30233257263183977, \"y\": 0.2655466593722262, \"c\": \"#264653\", \"t\": 3}, {\"x\": 0.14675589081711304, \"y\": 0.4915731592803383, \"c\": \"#264653\", \"t\": 4}, {\"x\": 0.0923385947687978, \"y\": 0.053362545117080384, \"c\": \"#264653\", \"t\": 5}, {\"x\": 0.1862602113776709, \"y\": 0.5741176054920131, \"c\": \"#264653\", \"t\": 6}, {\"x\": 0.34556072704304774, \"y\": 0.14672857490581015, \"c\": \"#264653\", \"t\": 7}, {\"x\": 0.39676747423066994, \"y\": 0.5893055369032842, \"c\": \"#264653\", \"t\": 8}, {\"x\": 0.538816734003357, \"y\": 0.6997583600209312, \"c\": \"#264653\", \"t\": 9}, {\"x\": 0.4191945144032948, \"y\": 0.10233442882782584, \"c\": \"#2a9d8f\", \"t\": 0}, {\"x\": 0.6852195003967595, \"y\": 0.4140559878195683, \"c\": \"#2a9d8f\", \"t\": 1}, {\"x\": 0.20445224973151743, \"y\": 0.6944001577277451, \"c\": \"#2a9d8f\", \"t\": 2}, {\"x\": 0.8781174363909454, \"y\": 0.41417926952690265, \"c\": \"#2a9d8f\", \"t\": 3}, {\"x\": 0.027387593197926163, \"y\": 0.04995345894608716, \"c\": \"#2a9d8f\", \"t\": 4}, {\"x\": 0.6704675101784022, \"y\": 0.5358964059155116, \"c\": \"#2a9d8f\", \"t\": 5}, {\"x\": 0.41730480236712697, \"y\": 0.6637946452197888, \"c\": \"#2a9d8f\", \"t\": 6}, {\"x\": 0.5586898284457517, \"y\": 0.5148891120583086, \"c\": \"#2a9d8f\", \"t\": 7}, {\"x\": 0.14038693859523377, \"y\": 0.9445947559908133, \"c\": \"#2a9d8f\", \"t\": 8}, {\"x\": 0.1981014890848788, \"y\": 0.5865550405019929, \"c\": \"#2a9d8f\", \"t\": 9}, {\"x\": 0.8007445686755367, \"y\": 0.9034019152878835, \"c\": \"#e9c46a\", \"t\": 0}, {\"x\": 0.9682615757193975, \"y\": 0.13747470414623753, \"c\": \"#e9c46a\", \"t\": 1}, {\"x\": 0.31342417815924284, \"y\": 0.13927634725075855, \"c\": \"#e9c46a\", \"t\": 2}, {\"x\": 0.6923226156693141, \"y\": 0.8073912887095238, \"c\": \"#e9c46a\", \"t\": 3}, {\"x\": 0.8763891522960383, \"y\": 0.3976768369855336, \"c\": \"#e9c46a\", \"t\": 4}, {\"x\": 0.8946066635038473, \"y\": 0.16535419711693278, \"c\": \"#e9c46a\", \"t\": 5}, {\"x\": 0.08504421136977791, \"y\": 0.9275085803960339, \"c\": \"#e9c46a\", \"t\": 6}, {\"x\": 0.03905478323288236, \"y\": 0.34776585974550656, \"c\": \"#e9c46a\", \"t\": 7}, {\"x\": 0.1698304195645689, \"y\": 0.7508121031361555, \"c\": \"#e9c46a\", \"t\": 8}, {\"x\": 0.8781425034294131, \"y\": 0.7259979853504515, \"c\": \"#e9c46a\", \"t\": 9}, {\"x\": 0.0983468338330501, \"y\": 0.8833060912058098, \"c\": \"#f4a261\", \"t\": 0}, {\"x\": 0.42110762500505217, \"y\": 0.6236722070556089, \"c\": \"#f4a261\", \"t\": 1}, {\"x\": 0.9578895301505019, \"y\": 0.7509424340273372, \"c\": \"#f4a261\", \"t\": 2}, {\"x\": 0.5331652849730171, \"y\": 0.34889834197784253, \"c\": \"#f4a261\", \"t\": 3}, {\"x\": 0.6918771139504734, \"y\": 0.2699278917650261, \"c\": \"#f4a261\", \"t\": 4}, {\"x\": 0.31551563100606295, \"y\": 0.8958862181960668, \"c\": \"#f4a261\", \"t\": 5}, {\"x\": 0.6865009276815837, \"y\": 0.4280911898712949, \"c\": \"#f4a261\", \"t\": 6}, {\"x\": 0.8346256718973729, \"y\": 0.9648400471483856, \"c\": \"#f4a261\", \"t\": 7}, {\"x\": 0.018288277344191806, \"y\": 0.6634414978184481, \"c\": \"#f4a261\", \"t\": 8}, {\"x\": 0.7501443149449675, \"y\": 0.6216957202091218, \"c\": \"#f4a261\", \"t\": 9}, {\"x\": 0.9888610889064947, \"y\": 0.11474597295337519, \"c\": \"#e76f51\", \"t\": 0}, {\"x\": 0.7481656543798394, \"y\": 0.9494892587070712, \"c\": \"#e76f51\", \"t\": 1}, {\"x\": 0.2804439920644052, \"y\": 0.4499121334799405, \"c\": \"#e76f51\", \"t\": 2}, {\"x\": 0.7892793284514885, \"y\": 0.5783896143871318, \"c\": \"#e76f51\", \"t\": 3}, {\"x\": 0.10322600657764203, \"y\": 0.40813680276128117, \"c\": \"#e76f51\", \"t\": 4}, {\"x\": 0.44789352617590517, \"y\": 0.2370269802430277, \"c\": \"#e76f51\", \"t\": 5}, {\"x\": 0.9085955030930956, \"y\": 0.9033795205622538, \"c\": \"#e76f51\", \"t\": 6}, {\"x\": 0.2936141483736795, \"y\": 0.5736794866722859, \"c\": \"#e76f51\", \"t\": 7}, {\"x\": 0.28777533858634874, \"y\": 0.00287032703115897, \"c\": \"#e76f51\", \"t\": 8}, {\"x\": 0.13002857211827767, \"y\": 0.6171449136207239, \"c\": \"#e76f51\", \"t\": 9}]}}, {\"mode\": \"vega-lite\"});\n",
       "</script>"
      ],
      "text/plain": [
       "alt.VConcatChart(...)"
      ]
     },
     "execution_count": 5,
     "metadata": {},
     "output_type": "execute_result"
    }
   ],
   "source": [
    "create_preview(palette)"
   ]
  },
  {
   "cell_type": "code",
   "execution_count": null,
   "metadata": {},
   "outputs": [],
   "source": []
  }
 ],
 "metadata": {
  "kernelspec": {
   "language": "python",
   "name": "python3"
  },
  "language_info": {
   "codemirror_mode": {
    "name": "ipython",
    "version": 3
   },
   "file_extension": ".py",
   "mimetype": "text/x-python",
   "name": "python",
   "nbconvert_exporter": "python",
   "pygments_lexer": "ipython3",
   "version": "3.10.11"
  }
 },
 "nbformat": 4,
 "nbformat_minor": 2
}
